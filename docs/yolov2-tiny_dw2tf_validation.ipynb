{
  "cells": [
    {
      "cell_type": "markdown",
      "metadata": {
        "id": "HOqVErPO4bRk"
      },
      "source": [
        "# Yolo-v2-tiny DW2TF validation"
      ]
    },
    {
      "cell_type": "code",
      "source": [
        "from google.colab import drive\n",
        "drive.mount('/content/gdrive')"
      ],
      "metadata": {
        "id": "_2ojMx6X4fGM",
        "outputId": "434ccf2f-e053-443f-cc60-273c31fc7c54",
        "colab": {
          "base_uri": "https://localhost:8080/"
        }
      },
      "execution_count": 1,
      "outputs": [
        {
          "output_type": "stream",
          "name": "stdout",
          "text": [
            "Mounted at /content/gdrive\n"
          ]
        }
      ]
    },
    {
      "cell_type": "code",
      "execution_count": 3,
      "metadata": {
        "id": "v364yAji4bRo",
        "outputId": "577d8a5e-1532-4025-8344-eb2e75dc5989",
        "colab": {
          "base_uri": "https://localhost:8080/"
        }
      },
      "outputs": [
        {
          "output_type": "stream",
          "name": "stderr",
          "text": [
            "WARNING:tensorflow:From /usr/local/lib/python3.11/dist-packages/tensorflow/python/compat/v2_compat.py:98: disable_resource_variables (from tensorflow.python.ops.resource_variables_toggle) is deprecated and will be removed in a future version.\n",
            "Instructions for updating:\n",
            "non-resource variables are not supported in the long term\n"
          ]
        }
      ],
      "source": [
        "import numpy as np\n",
        "import tensorflow.compat.v1 as tf\n",
        "tf.disable_v2_behavior()\n",
        "\n",
        "# Random input data to test\n",
        "in_data = np.random.randn(64, 416, 416, 3) * 120.56"
      ]
    },
    {
      "cell_type": "markdown",
      "metadata": {
        "id": "3BQQ8I804bRq"
      },
      "source": [
        "### Output from Darkflow converted Yolo-v2-tiny"
      ]
    },
    {
      "cell_type": "code",
      "execution_count": 10,
      "metadata": {
        "id": "HuK86CK14bRq"
      },
      "outputs": [],
      "source": [
        "tf.reset_default_graph()\n",
        "\n",
        "saver = tf.train.import_meta_graph('/content/gdrive/MyDrive/DW2TF/data/yolov3-tiny-bosch.ckpt.meta')\n",
        "ckpt_path = '/content/gdrive/MyDrive/DW2TF/data/yolov3-tiny-bosch.ckpt'\n",
        "\n",
        "g = tf.get_default_graph()\n",
        "in_t = g.get_tensor_by_name('yolov3-tiny/net1:0')\n",
        "out_t = g.get_tensor_by_name('yolov3-tiny/convolutional13/BiasAdd:0')\n",
        "\n",
        "with tf.Session() as sess:\n",
        "    saver.restore(sess, ckpt_path)\n",
        "\n",
        "    out_data_darkflow = sess.run(out_t, feed_dict={in_t: in_data})"
      ]
    },
    {
      "cell_type": "markdown",
      "metadata": {
        "id": "IW0mr6IF4bRs"
      },
      "source": [
        "### Output from DW2TF converted Yolo-v2-tiny"
      ]
    },
    {
      "cell_type": "code",
      "execution_count": 5,
      "metadata": {
        "id": "rXL1RDPP4bRs"
      },
      "outputs": [],
      "source": [
        "tf.reset_default_graph()\n",
        "\n",
        "saver = tf.train.import_meta_graph('/content/gdrive/MyDrive/DW2TF/data/yolov3-tiny-bosch.ckpt.meta')\n",
        "ckpt_path = '/content/gdrive/MyDrive/DW2TF/data/yolov3-tiny-bosch.ckpt'\n",
        "\n",
        "g = tf.get_default_graph()\n",
        "in_t = g.get_tensor_by_name('yolov3-tiny/net1:0')\n",
        "out_t = g.get_tensor_by_name('yolov3-tiny/convolutional13/BiasAdd:0')\n",
        "\n",
        "with tf.Session() as sess:\n",
        "    saver.restore(sess, ckpt_path)\n",
        "\n",
        "    out_data_dw2tf = sess.run(out_t, feed_dict={in_t: in_data})"
      ]
    },
    {
      "cell_type": "markdown",
      "metadata": {
        "id": "CvaJP07d4bRt"
      },
      "source": [
        "### RMS Error"
      ]
    },
    {
      "cell_type": "code",
      "execution_count": 11,
      "metadata": {
        "id": "biE5oN5T4bRt",
        "outputId": "dc7cd0b9-bd73-47f1-dfb5-3d274c9e830a",
        "colab": {
          "base_uri": "https://localhost:8080/"
        }
      },
      "outputs": [
        {
          "output_type": "stream",
          "name": "stdout",
          "text": [
            "(64, 26, 26, 39)\n",
            "(64, 26, 26, 39)\n",
            "0.0\n"
          ]
        }
      ],
      "source": [
        "print(out_data_darkflow.shape)\n",
        "print(out_data_dw2tf.shape)\n",
        "print(np.mean(out_data_darkflow - out_data_dw2tf)**2)"
      ]
    },
    {
      "cell_type": "code",
      "execution_count": 12,
      "metadata": {
        "id": "q-tt8q2y4bRu",
        "outputId": "b860a2ae-cc77-4e51-b6b7-635731a5dce9",
        "colab": {
          "base_uri": "https://localhost:8080/"
        }
      },
      "outputs": [
        {
          "output_type": "stream",
          "name": "stdout",
          "text": [
            "[ 1.5872973e+01  1.2650363e+02  1.0625866e+01  5.0319260e-01\n",
            " -1.4264976e+03 -8.5869775e+02  2.1512898e+02 -6.3914093e+02\n",
            " -2.0286956e+03 -1.0557258e+03]\n"
          ]
        }
      ],
      "source": [
        "print(out_data_darkflow[0,0,0,:10])"
      ]
    },
    {
      "cell_type": "code",
      "execution_count": 13,
      "metadata": {
        "id": "3g_QOon-4bRu",
        "outputId": "840fa731-c3dd-454c-aff9-268e63ba1210",
        "colab": {
          "base_uri": "https://localhost:8080/"
        }
      },
      "outputs": [
        {
          "output_type": "stream",
          "name": "stdout",
          "text": [
            "[ 1.5872973e+01  1.2650363e+02  1.0625866e+01  5.0319260e-01\n",
            " -1.4264976e+03 -8.5869775e+02  2.1512898e+02 -6.3914093e+02\n",
            " -2.0286956e+03 -1.0557258e+03]\n"
          ]
        }
      ],
      "source": [
        "print(out_data_dw2tf[0,0,0,:10])"
      ]
    },
    {
      "cell_type": "code",
      "execution_count": null,
      "metadata": {
        "id": "S4xQW2nC4bRv"
      },
      "outputs": [],
      "source": []
    }
  ],
  "metadata": {
    "kernelspec": {
      "display_name": "Python 3",
      "language": "python",
      "name": "python3"
    },
    "language_info": {
      "codemirror_mode": {
        "name": "ipython",
        "version": 3
      },
      "file_extension": ".py",
      "mimetype": "text/x-python",
      "name": "python",
      "nbconvert_exporter": "python",
      "pygments_lexer": "ipython3",
      "version": "3.6.8"
    },
    "colab": {
      "provenance": []
    }
  },
  "nbformat": 4,
  "nbformat_minor": 0
}