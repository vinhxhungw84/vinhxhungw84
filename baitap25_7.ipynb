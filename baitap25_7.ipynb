{
 "cells": [
  {
   "cell_type": "code",
   "execution_count": 8,
   "id": "b3daefd1",
   "metadata": {},
   "outputs": [
    {
     "name": "stdout",
     "output_type": "stream",
     "text": [
      "Nhập tên:     PhaN Kế VĨnH hƯnG\n",
      "phan kế vĩnh hưng\n"
     ]
    }
   ],
   "source": [
    "name = input(\"Nhập tên: \")\n",
    "t= name.lower()\n",
    "t= t.strip()\n",
    "t=t.title()\n",
    "print(t)"
   ]
  },
  {
   "cell_type": "code",
   "execution_count": 1,
   "id": "7ad1996e",
   "metadata": {},
   "outputs": [
    {
     "name": "stdout",
     "output_type": "stream",
     "text": [
      "Nhập chuỗi: e0jfq3jj293983721222\n",
      "10\n"
     ]
    }
   ],
   "source": [
    "a=input(\"Nhập chuỗi: \")\n",
    "tong_chan = int(a.count(\"2\"))*2 + int(a.count(\"4\"))*4 + int(a.count(\"6\"))*6 + int(a.count(\"8\"))*8 \n",
    "tong_le = int(a.count(\"1\"))*1 + int(a.count(\"3\"))*3 + int(a.count(\"5\"))*5 + int(a.count(\"7\"))*7 +int(a.count(\"9\"))*9\n",
    "print(str(tong_chan))\n",
    "print(str(tong_le))\n",
    "\n",
    "\n"
   ]
  },
  {
   "cell_type": "code",
   "execution_count": null,
   "id": "aa02c836",
   "metadata": {},
   "outputs": [],
   "source": []
  },
  {
   "cell_type": "code",
   "execution_count": null,
   "id": "83e8c3f5",
   "metadata": {},
   "outputs": [],
   "source": []
  },
  {
   "cell_type": "code",
   "execution_count": null,
   "id": "2f55436f",
   "metadata": {},
   "outputs": [],
   "source": []
  },
  {
   "cell_type": "code",
   "execution_count": null,
   "id": "80929dd8",
   "metadata": {},
   "outputs": [],
   "source": []
  },
  {
   "cell_type": "code",
   "execution_count": null,
   "id": "6376413f",
   "metadata": {},
   "outputs": [],
   "source": []
  }
 ],
 "metadata": {
  "kernelspec": {
   "display_name": "Python 3 (ipykernel)",
   "language": "python",
   "name": "python3"
  },
  "language_info": {
   "codemirror_mode": {
    "name": "ipython",
    "version": 3
   },
   "file_extension": ".py",
   "mimetype": "text/x-python",
   "name": "python",
   "nbconvert_exporter": "python",
   "pygments_lexer": "ipython3",
   "version": "3.9.12"
  }
 },
 "nbformat": 4,
 "nbformat_minor": 5
}
