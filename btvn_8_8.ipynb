{
 "cells": [
  {
   "cell_type": "code",
   "execution_count": 8,
   "id": "5e60ebe5",
   "metadata": {},
   "outputs": [
    {
     "name": "stdout",
     "output_type": "stream",
     "text": [
      "Nhập tên: Phan Kế Vĩnh Hưng\n",
      "Phan ke vinh hung"
     ]
    }
   ],
   "source": [
    "a = input(\"Nhập tên: \")\n",
    "a = a.strip()\n",
    "a = a.lower()\n",
    "i = 0\n",
    "# print (a[1][1])\n",
    "\n",
    "\n",
    "for j in a:\n",
    "\n",
    "    if j == \"à\" or j == \"á\" or j == \"ã\" or j==\"ả\" or j == \"â\" or j == \"ấ\" or j == \"ẫ\" or j == \"ầ\" or j == \"ẩ\" or j == \"ă\" or j == \"ắ\" or j == \"ằ\" or j == \"ẳ\" or j == \"ẵ\" or j == \"ặ\" or j == \"ạ\" or j == \"ậ\":\n",
    "        j = \"a\"\n",
    "    if j == \"ù\" or j == \"ú\" or j == \"ũ\" or j==\"ủ\" or j == \"ụ\" or j == \"ư\" or j == \"ự\" or j == \"ứ\" or j == \"ừ\" or j == \"ử\" or j == \"ữ\":\n",
    "        j = \"u\"  \n",
    "    if j == \"ì\" or j == \"ỉ\" or j == \"ĩ\" or j == \"ị\" or j == \"í\":\n",
    "        j = \"i\"\n",
    "    if j == \"è\" or j == \"é\" or j == \"ẽ\" or j==\"ẻ\" or j == \"ẹ\" or j == \"ê\" or j == \"ế\" or j == \"ệ\" or j == \"ề\" or j == \"ể\" or j == \"ễ\":\n",
    "        j = \"e\"  \n",
    "    if j == \"ò\" or j == \"ó\" or j == \"õ\" or j==\"ỏ\" or j == \"ô\" or j == \"ố\" or j == \"ỗ\" or j == \"ồ\" or j == \"ổ\" or j == \"ơ\" or j == \"ớ\" or j == \"ờ\" or j == \"ở\" or j == \"ỡ\" or j == \"ợ\" or j == \"ọ\" or j == \"ộ\":\n",
    "        j = \"o\"\n",
    "    if j == \"ỳ\" or j == \"ỷ\" or j == \"ỹ\" or j == \"ỵ\" or j == \"ý\":\n",
    "        j = \"y\"\n",
    "    # print(j,end=\"\")\n",
    "    while i <= 1:\n",
    "        if i == 0:\n",
    "            j = j.upper()\n",
    "        i += 1 \n",
    "    print(j,end=\"\")\n"
   ]
  },
  {
   "cell_type": "code",
   "execution_count": 10,
   "id": "4040981e",
   "metadata": {},
   "outputs": [
    {
     "name": "stdout",
     "output_type": "stream",
     "text": [
      "Nhập tháng: 8\n",
      "Nhập năm: 2022\n",
      "Có 1 tuần lẻ\n",
      "Có 4 tuần chẵn\n"
     ]
    }
   ],
   "source": [
    "# Bài 2: Trong các công ty sản xuất, thời gian trong tháng được chia làm các tuần.\n",
    "# Một tuần đầy đủ (gọi là tuần chẵn) được tính từ thứ 2 đến chủ nhật (có đầy đủ các ngày), \n",
    "# còn tuần lẻ là các tuần không đủ 7 ngày. Nhập vào tháng và năm, \n",
    "# tính số tuần (bao gồm chẵn và lẻ) trong tháng đó.\n",
    "\n",
    "import calendar\n",
    "mm = int(input(\"Nhập tháng: \"))\n",
    "yy = int(input(\"Nhập năm: \"))\n",
    "\n",
    "while mm <=0 or mm>12 or yy<=0 :\n",
    "    mm = int(input(\"Nhập tháng: \"))\n",
    "    yy = int(input(\"Nhập năm: \"))\n",
    "\n",
    "month = calendar.monthcalendar(yy,mm)\n",
    "\n",
    "x=0\n",
    "y=0\n",
    "for i in month:\n",
    "    a=0\n",
    "    for j in i:\n",
    "        if j == 0:\n",
    "            a+=1\n",
    "    if a>0:\n",
    "        x+=1\n",
    "    else:\n",
    "        y+=1\n",
    "print(f\"Có {x} tuần lẻ\")\n",
    "print(f\"Có {y} tuần chẵn\")\n"
   ]
  },
  {
   "cell_type": "code",
   "execution_count": null,
   "id": "d925385a",
   "metadata": {},
   "outputs": [],
   "source": []
  }
 ],
 "metadata": {
  "kernelspec": {
   "display_name": "Python 3 (ipykernel)",
   "language": "python",
   "name": "python3"
  },
  "language_info": {
   "codemirror_mode": {
    "name": "ipython",
    "version": 3
   },
   "file_extension": ".py",
   "mimetype": "text/x-python",
   "name": "python",
   "nbconvert_exporter": "python",
   "pygments_lexer": "ipython3",
   "version": "3.9.12"
  }
 },
 "nbformat": 4,
 "nbformat_minor": 5
}
