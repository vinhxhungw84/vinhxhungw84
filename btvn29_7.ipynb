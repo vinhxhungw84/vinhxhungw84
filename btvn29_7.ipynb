{
 "cells": [
  {
   "cell_type": "code",
   "execution_count": null,
   "id": "b7532749",
   "metadata": {},
   "outputs": [],
   "source": [
    "###### btvn 29_7\n",
    "thu= float(input(\"Thu nhập: \"))\n",
    "print(\"Thu nhập là: \"+str(thu)+\" triệu đồng\")\n",
    "\n",
    "thuesuat1 = 0.05\n",
    "thuesuat2 = 0.10\n",
    "thuesuat3 = 0.15\n",
    "thuesuat4 = 0.20\n",
    "thuesuat5 = 0.25\n",
    "thuesuat6 = 0.30\n",
    "thuesuat7 = 0.35\n",
    "\n",
    "max1 = 0.25\n",
    "max2 = 0.75\n",
    "max3 = 1.95\n",
    "max4 = 4.75\n",
    "max5 = 9.75\n",
    "max6 = 18.15\n",
    "\n",
    "thue1 = thuesuat1*thu if thu <= 5 else max1 + thuesuat2*(thu-5) if thu <= 10 else max2 + thuesuat3*(thu-5-10) if thu <= 18 else max3 + thuesuat4*(thu-18) if thu <= 32 else max4 + thuesuat5*(thu-32) if thu <= 52 else max5 + thuesuat6*(thu-52) if thu <= 80 else max6 + thuesuat7*(thu-80)\n",
    "if thue1 < 1:\n",
    "    print(\"Thuế TNCN: \" + str(thue1*1000) + \" ngàn đồng\")\n",
    "else:\n",
    "    print(\"Thuế TNCN: \" +str(thue1)+ \" triệu đồng\")\n",
    "\n",
    "giadinh = int(input(\"Số người: \"))\n",
    "if giadinh == 1: \n",
    "    thue1= float(thue1 -11)\n",
    "    if thue1 <= 0:\n",
    "        print(\"Miễn thuế\")\n",
    "    else:\n",
    "        print(thue1)    \n",
    "else: \n",
    "    thue1 = float(thue1 - 11 - (giadinh-1)*4.4)\n",
    "    if thue1 <= 0:\n",
    "        print(\"Miễn thuế\")\n",
    "    else: \n",
    "        print(thue1)    \n",
    "        \n",
    "\n",
    "\n",
    "\n"
   ]
  },
  {
   "cell_type": "code",
   "execution_count": 39,
   "id": "31ca5a57",
   "metadata": {},
   "outputs": [
    {
     "name": "stdout",
     "output_type": "stream",
     "text": [
      "Nhập hoành độ điểm P: -1\n",
      "Nhập tung độ điểm P: 1\n",
      "Điểm P thuộc miền D.\n"
     ]
    }
   ],
   "source": [
    "x = float(input(\"Nhập hoành độ điểm P: \"))\n",
    "y = float(input(\"Nhập tung độ điểm P: \"))\n",
    "\n",
    "if x >= 0 and y <= -(1/3)*x +2 and y >= (1/3)*x-2:\n",
    "    print(\"Điểm P thuộc miền D.\")\n",
    "elif -2 <= x and x*2 + y*2 <=4 :\n",
    "    print(\"Điểm P thuộc miền D.\")\n",
    "else:\n",
    "    print(\"Điểm P không thuộc miền D.\")\n",
    "\n",
    "\n",
    "\n",
    "\n",
    "        "
   ]
  },
  {
   "cell_type": "code",
   "execution_count": null,
   "id": "f3e16272",
   "metadata": {},
   "outputs": [],
   "source": []
  },
  {
   "cell_type": "code",
   "execution_count": null,
   "id": "cdbe8be0",
   "metadata": {},
   "outputs": [],
   "source": []
  }
 ],
 "metadata": {
  "kernelspec": {
   "display_name": "Python 3 (ipykernel)",
   "language": "python",
   "name": "python3"
  },
  "language_info": {
   "codemirror_mode": {
    "name": "ipython",
    "version": 3
   },
   "file_extension": ".py",
   "mimetype": "text/x-python",
   "name": "python",
   "nbconvert_exporter": "python",
   "pygments_lexer": "ipython3",
   "version": "3.9.12"
  }
 },
 "nbformat": 4,
 "nbformat_minor": 5
}
