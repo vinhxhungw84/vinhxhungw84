{
 "cells": [
  {
   "cell_type": "code",
   "execution_count": 2,
   "id": "d8652468",
   "metadata": {},
   "outputs": [
    {
     "name": "stdout",
     "output_type": "stream",
     "text": [
      "Nhập số điện: 45\n",
      "75510 đ\n"
     ]
    }
   ],
   "source": [
    "so_dien = int(input(\"Nhập số điện: \"))\n",
    "\n",
    "if so_dien <= 50 :\n",
    "    print(\"Số tiền cần đóng: \"+str(so_dien * 1678) + \" đ\")\n",
    "elif so_dien <= 100 :\n",
    "    print(\"Số tiền cần đóng: \"+str(so_dien * 1734) + \" đ\")\n",
    "elif so_dien <=200 :\n",
    "    print(\"Số tiền cần đóng: \"+str(so_dien * 2014) + \" đ\")\n",
    "elif so_dien <= 300:\n",
    "    print(\"Số tiền cần đóng: \"+str(so_dien * 2536) + \" đ\")\n",
    "elif so_dien <=400:\n",
    "    print(\"Số tiền cần đóng: \"+str(so_dien * 2834) + \" đ\")\n",
    "else:\n",
    "    print(\"Số tiền cần đóng: \"+ str(so_dien * 2927) + \" đ\")"
   ]
  },
  {
   "cell_type": "code",
   "execution_count": 27,
   "id": "adcca10c",
   "metadata": {},
   "outputs": [
    {
     "name": "stdout",
     "output_type": "stream",
     "text": [
      "Nhập hệ số a: -1\n",
      "Nhập hệ số b: 2\n",
      "Nhập hệ số c: 0\n",
      "-x^2 + 2x \n"
     ]
    }
   ],
   "source": [
    "a= int(input(\"Nhập hệ số a: \"))\n",
    "b= int(input(\"Nhập hệ số b: \"))\n",
    "c= int(input(\"Nhập hệ số c: \"))\n",
    "str_a = \" \"\n",
    "str_b = \" \"\n",
    "str_c = \" \"\n",
    "if a == 0:\n",
    "    print(\"Không phải đa thức bậc 2\")\n",
    "else:\n",
    "    if a == 1:\n",
    "        str_a = \"x^2\"        \n",
    "    elif a == -1:\n",
    "        str_a = \"-x^2\"\n",
    "    else:\n",
    "        str_a = \"{}x^2\".format(a)\n",
    "        \n",
    "if b == 1:\n",
    "    str_b = \" +x\"\n",
    "elif b == -1:\n",
    "    str_b = \" - x\"\n",
    "elif b > 1: \n",
    "    str_b = \" + {}x\".format(b)\n",
    "else: \n",
    "    str_b = \" {} x\".format(b)\n",
    "        \n",
    "if c != 0 :\n",
    "    if c>0 :\n",
    "        str_c = \" + {}\".format(c)\n",
    "    else: \n",
    "        str_c = \" {}\".format(c)\n",
    "   \n",
    "    \n",
    "print(\"{0}{1}{2}\".format(str_a,str_b,str_c))\n",
    " #if b == 1:\n",
    "  #          str_b = \" +x\"\n",
    "   #     elif b == -1:\n",
    "    #        str_b = \" -x\"\n",
    "     #   else: \n",
    "      #      str_b = \" {}x\".format(b)\n",
    "       # if c != 0 :\n",
    "        #    str_c = \" {}\".format(c)\n",
    "            \n",
    "        \n",
    "    "
   ]
  },
  {
   "cell_type": "code",
   "execution_count": null,
   "id": "556f83b1",
   "metadata": {},
   "outputs": [],
   "source": []
  },
  {
   "cell_type": "code",
   "execution_count": null,
   "id": "765dd1a0",
   "metadata": {},
   "outputs": [],
   "source": []
  }
 ],
 "metadata": {
  "kernelspec": {
   "display_name": "Python 3 (ipykernel)",
   "language": "python",
   "name": "python3"
  },
  "language_info": {
   "codemirror_mode": {
    "name": "ipython",
    "version": 3
   },
   "file_extension": ".py",
   "mimetype": "text/x-python",
   "name": "python",
   "nbconvert_exporter": "python",
   "pygments_lexer": "ipython3",
   "version": "3.9.12"
  }
 },
 "nbformat": 4,
 "nbformat_minor": 5
}
